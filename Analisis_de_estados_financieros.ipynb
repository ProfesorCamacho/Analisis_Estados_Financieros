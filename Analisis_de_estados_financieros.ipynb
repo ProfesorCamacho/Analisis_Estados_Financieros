{
  "nbformat": 4,
  "nbformat_minor": 0,
  "metadata": {
    "colab": {
      "provenance": [],
      "toc_visible": true,
      "authorship_tag": "ABX9TyP0lNykZAK5JfB3CW1OOuNS",
      "include_colab_link": true
    },
    "kernelspec": {
      "name": "python3",
      "display_name": "Python 3"
    },
    "language_info": {
      "name": "python"
    }
  },
  "cells": [
    {
      "cell_type": "markdown",
      "metadata": {
        "id": "view-in-github",
        "colab_type": "text"
      },
      "source": [
        "<a href=\"https://colab.research.google.com/github/ProfesorCamacho/Analisis_Estados_Financieros/blob/main/Analisis_de_estados_financieros.ipynb\" target=\"_parent\"><img src=\"https://colab.research.google.com/assets/colab-badge.svg\" alt=\"Open In Colab\"/></a>"
      ]
    },
    {
      "cell_type": "markdown",
      "source": [
        "# **Análisis de Estados Financieros para Análisis Bursátil**\n",
        "\n",
        "Cuando buscamos empresas donde invertir nos encontramos con una infinidad de empresas listadas en la Bolsas de Valores. En este trabajo se enumeran tres criterios para analizar la solidez financiera de algunas empresas listadas en la Bolsa de Valores de Estados Unidos."
      ],
      "metadata": {
        "id": "sq1MwQxADW_2"
      }
    },
    {
      "cell_type": "markdown",
      "source": [
        "Importamos los modulos que se usaran en este análisis.\n",
        "NOTA: Si no se utiliza Colab, se deberán instalar antes los módulos con pip install."
      ],
      "metadata": {
        "id": "447MBgj3SBTU"
      }
    },
    {
      "cell_type": "code",
      "source": [
        "import sqlite3\n",
        "import pandas as pd\n",
        "import matplotlib.pyplot as plt\n",
        "import seaborn as sns"
      ],
      "metadata": {
        "id": "j4i_tiqJR25G"
      },
      "execution_count": 24,
      "outputs": []
    },
    {
      "cell_type": "markdown",
      "source": [
        "Al tener la base de datos proveniente de sqlite tenemos que generar la conexión para poder leer la base de datos y la tabla de dicha base de datos. Seleccionamos toda la tabla y que se imprima los primeros 5 renglones para explorar la base de datos."
      ],
      "metadata": {
        "id": "ruHf7FkHKR_P"
      }
    },
    {
      "cell_type": "code",
      "source": [
        "# Ruta a la base de datos SQLite\n",
        "ruta_base_de_datos = 'income_statements_select_07_21_.db'\n",
        "\n",
        "# Nombre de la tabla a leer\n",
        "nombre_tabla = 'Edo_Resultados'\n",
        "\n",
        "# Conectar a la base de datos SQLite\n",
        "conexion = sqlite3.connect(ruta_base_de_datos)\n",
        "\n",
        "# Leer la tabla en un DataFrame\n",
        "df = pd.read_sql_query(f'SELECT * FROM {nombre_tabla}', conexion)\n",
        "\n",
        "# Cerrar la conexión\n",
        "conexion.close()\n",
        "\n",
        "# Mostrar los primeros 5 registros del DataFrame\n",
        "print(df.head())"
      ],
      "metadata": {
        "colab": {
          "base_uri": "https://localhost:8080/"
        },
        "id": "Lo2f_ROCfnTu",
        "outputId": "a6679cae-37ca-4285-ca76-9f0caf3b1bd4"
      },
      "execution_count": 25,
      "outputs": [
        {
          "output_type": "stream",
          "name": "stdout",
          "text": [
            "                  date symbol reportedCurrency        cik  \\\n",
            "0  2015-03-31 00:00:00     AA              USD  1675149.0   \n",
            "1  2015-06-30 00:00:00     AA              USD  1675149.0   \n",
            "2  2015-09-30 00:00:00     AA              USD  1675149.0   \n",
            "3  2015-12-31 00:00:00     AA              USD  1675149.0   \n",
            "4  2016-03-31 00:00:00     AA              USD  1675149.0   \n",
            "\n",
            "           fillingDate         acceptedDate  calendarYear period  \\\n",
            "0  2015-03-31 00:00:00  2015-03-31 00:00:00        2015.0     Q2   \n",
            "1  2015-06-30 00:00:00  2015-06-30 00:00:00        2015.0     Q2   \n",
            "2  2015-09-30 00:00:00  2015-09-30 00:00:00        2015.0     Q3   \n",
            "3  2015-12-31 00:00:00  2015-12-31 00:00:00        2015.0     Q4   \n",
            "4  2016-03-31 00:00:00  2016-03-31 00:00:00        2016.0     Q2   \n",
            "\n",
            "        revenue  costOfRevenue  ...  incomeBeforeTaxRatio  incomeTaxExpense  \\\n",
            "0  3.105000e+09   2.291000e+09  ...              0.132689       186000000.0   \n",
            "1  2.964000e+09   2.352000e+09  ...              0.005735        47000000.0   \n",
            "2  2.679000e+09   2.239000e+09  ...              0.005226        77000000.0   \n",
            "3  2.451000e+09   2.157000e+09  ...             -0.325581        92000000.0   \n",
            "4  2.129000e+09   1.859000e+09  ...             -0.089244        18000000.0   \n",
            "\n",
            "     netIncome  netIncomeRatio       EPS  EPSDiluted  weightedAverageShsOut  \\\n",
            "0  166000000.0        0.053462  0.910088    0.910088            182400000.0   \n",
            "1  -97000000.0       -0.032726 -0.531798   -0.531798            182400000.0   \n",
            "2 -124000000.0       -0.046286 -0.679825   -0.679825            182400000.0   \n",
            "3 -826000000.0       -0.337005 -4.528509   -4.528509            182400000.0   \n",
            "4 -203000000.0       -0.095350 -1.112939   -1.112939            182400000.0   \n",
            "\n",
            "   weightedAverageShsOutDil  link  finalLink  \n",
            "0               182400000.0  None       None  \n",
            "1               182400000.0  None       None  \n",
            "2               182400000.0  None       None  \n",
            "3               182400000.0  None       None  \n",
            "4               182400000.0  None       None  \n",
            "\n",
            "[5 rows x 36 columns]\n"
          ]
        }
      ]
    },
    {
      "cell_type": "markdown",
      "source": [
        "La base de datos cuenta con 36 columnas donde 26 son las que tienen la información financiera  que nos interesa, y el resto es información adicional que nos ayuda a ubicar los datos como el nombre de la acción (symbol) y la fecha.\n",
        "\n",
        "Ahora como notamos que tenemos diferentes empresas, vamos a ver cuantas empresas hay y cuantas observaciones (Estado de Resultados trimestral) tenemos para cada empresa."
      ],
      "metadata": {
        "id": "BT_4xIzqAODf"
      }
    },
    {
      "cell_type": "code",
      "source": [
        "# Contamos cuantas obvservaciones tenemos por empresa\n",
        "conteo_empresas = df['symbol'].value_counts()\n",
        "conteo_empresas"
      ],
      "metadata": {
        "colab": {
          "base_uri": "https://localhost:8080/"
        },
        "id": "qfnZILeri0G0",
        "outputId": "8be62340-b6a9-463e-ed7f-8ee5605c5956"
      },
      "execution_count": 26,
      "outputs": [
        {
          "output_type": "execute_result",
          "data": {
            "text/plain": [
              "symbol\n",
              "TILE    75\n",
              "ASGN    73\n",
              "LH      69\n",
              "PPBI    68\n",
              "T       68\n",
              "        ..\n",
              "BBL      2\n",
              "LEV      2\n",
              "THCB     2\n",
              "TSIA     2\n",
              "TBB      1\n",
              "Name: count, Length: 1130, dtype: int64"
            ]
          },
          "metadata": {},
          "execution_count": 26
        }
      ]
    },
    {
      "cell_type": "markdown",
      "source": [
        "Tenemos 1130 empresas en esta base de datos. y observaciones que  van desde 1 hasta 75. Sin embargo, para poder generar análisis  debemos quedarnos solo con las empresas que tienen más de 30 observaciones. De otro modo, no tendríamos datos suficientes para hacer conclusiones sobre los datos."
      ],
      "metadata": {
        "id": "NOGSP6FW_TZY"
      }
    },
    {
      "cell_type": "code",
      "source": [
        "# Filtrar las empresas con al menos 30 observaciones\n",
        "empresas_30_obs = conteo_empresas[conteo_empresas >= 30].index\n",
        "\n",
        "# Filtrar el conjunto de datos para incluir solo estas empresas\n",
        "empresas_interes = df[df['symbol'].isin(empresas_30_obs)]\n",
        "\n",
        "empresas_interes.describe(include=object)"
      ],
      "metadata": {
        "colab": {
          "base_uri": "https://localhost:8080/",
          "height": 175
        },
        "id": "rt430VwdkcvL",
        "outputId": "61b8a0d7-f9d5-40aa-b044-ffaae589d987"
      },
      "execution_count": 27,
      "outputs": [
        {
          "output_type": "execute_result",
          "data": {
            "text/plain": [
              "                       date symbol reportedCurrency          fillingDate  \\\n",
              "count                 44935  44935            44935                44935   \n",
              "unique                 1134    821               15                 3420   \n",
              "top     2016-12-31 00:00:00   TILE              USD  2013-12-31 00:00:00   \n",
              "freq                    721     75            41498                  188   \n",
              "\n",
              "               acceptedDate period  \\\n",
              "count                 44934  44935   \n",
              "unique                37708      5   \n",
              "top     2013-12-31 00:00:00     Q1   \n",
              "freq                    188  11686   \n",
              "\n",
              "                                                     link  \\\n",
              "count                                               37863   \n",
              "unique                                              37610   \n",
              "top     https://www.sec.gov/Archives/edgar/data/165204...   \n",
              "freq                                                    4   \n",
              "\n",
              "                                                finalLink  \n",
              "count                                               37859  \n",
              "unique                                              33983  \n",
              "top     https://www.sec.gov/Archives/edgar/data/165204...  \n",
              "freq                                                    4  "
            ],
            "text/html": [
              "\n",
              "  <div id=\"df-6991b98c-63ae-4984-b570-a19148b44d32\" class=\"colab-df-container\">\n",
              "    <div>\n",
              "<style scoped>\n",
              "    .dataframe tbody tr th:only-of-type {\n",
              "        vertical-align: middle;\n",
              "    }\n",
              "\n",
              "    .dataframe tbody tr th {\n",
              "        vertical-align: top;\n",
              "    }\n",
              "\n",
              "    .dataframe thead th {\n",
              "        text-align: right;\n",
              "    }\n",
              "</style>\n",
              "<table border=\"1\" class=\"dataframe\">\n",
              "  <thead>\n",
              "    <tr style=\"text-align: right;\">\n",
              "      <th></th>\n",
              "      <th>date</th>\n",
              "      <th>symbol</th>\n",
              "      <th>reportedCurrency</th>\n",
              "      <th>fillingDate</th>\n",
              "      <th>acceptedDate</th>\n",
              "      <th>period</th>\n",
              "      <th>link</th>\n",
              "      <th>finalLink</th>\n",
              "    </tr>\n",
              "  </thead>\n",
              "  <tbody>\n",
              "    <tr>\n",
              "      <th>count</th>\n",
              "      <td>44935</td>\n",
              "      <td>44935</td>\n",
              "      <td>44935</td>\n",
              "      <td>44935</td>\n",
              "      <td>44934</td>\n",
              "      <td>44935</td>\n",
              "      <td>37863</td>\n",
              "      <td>37859</td>\n",
              "    </tr>\n",
              "    <tr>\n",
              "      <th>unique</th>\n",
              "      <td>1134</td>\n",
              "      <td>821</td>\n",
              "      <td>15</td>\n",
              "      <td>3420</td>\n",
              "      <td>37708</td>\n",
              "      <td>5</td>\n",
              "      <td>37610</td>\n",
              "      <td>33983</td>\n",
              "    </tr>\n",
              "    <tr>\n",
              "      <th>top</th>\n",
              "      <td>2016-12-31 00:00:00</td>\n",
              "      <td>TILE</td>\n",
              "      <td>USD</td>\n",
              "      <td>2013-12-31 00:00:00</td>\n",
              "      <td>2013-12-31 00:00:00</td>\n",
              "      <td>Q1</td>\n",
              "      <td>https://www.sec.gov/Archives/edgar/data/165204...</td>\n",
              "      <td>https://www.sec.gov/Archives/edgar/data/165204...</td>\n",
              "    </tr>\n",
              "    <tr>\n",
              "      <th>freq</th>\n",
              "      <td>721</td>\n",
              "      <td>75</td>\n",
              "      <td>41498</td>\n",
              "      <td>188</td>\n",
              "      <td>188</td>\n",
              "      <td>11686</td>\n",
              "      <td>4</td>\n",
              "      <td>4</td>\n",
              "    </tr>\n",
              "  </tbody>\n",
              "</table>\n",
              "</div>\n",
              "    <div class=\"colab-df-buttons\">\n",
              "\n",
              "  <div class=\"colab-df-container\">\n",
              "    <button class=\"colab-df-convert\" onclick=\"convertToInteractive('df-6991b98c-63ae-4984-b570-a19148b44d32')\"\n",
              "            title=\"Convert this dataframe to an interactive table.\"\n",
              "            style=\"display:none;\">\n",
              "\n",
              "  <svg xmlns=\"http://www.w3.org/2000/svg\" height=\"24px\" viewBox=\"0 -960 960 960\">\n",
              "    <path d=\"M120-120v-720h720v720H120Zm60-500h600v-160H180v160Zm220 220h160v-160H400v160Zm0 220h160v-160H400v160ZM180-400h160v-160H180v160Zm440 0h160v-160H620v160ZM180-180h160v-160H180v160Zm440 0h160v-160H620v160Z\"/>\n",
              "  </svg>\n",
              "    </button>\n",
              "\n",
              "  <style>\n",
              "    .colab-df-container {\n",
              "      display:flex;\n",
              "      gap: 12px;\n",
              "    }\n",
              "\n",
              "    .colab-df-convert {\n",
              "      background-color: #E8F0FE;\n",
              "      border: none;\n",
              "      border-radius: 50%;\n",
              "      cursor: pointer;\n",
              "      display: none;\n",
              "      fill: #1967D2;\n",
              "      height: 32px;\n",
              "      padding: 0 0 0 0;\n",
              "      width: 32px;\n",
              "    }\n",
              "\n",
              "    .colab-df-convert:hover {\n",
              "      background-color: #E2EBFA;\n",
              "      box-shadow: 0px 1px 2px rgba(60, 64, 67, 0.3), 0px 1px 3px 1px rgba(60, 64, 67, 0.15);\n",
              "      fill: #174EA6;\n",
              "    }\n",
              "\n",
              "    .colab-df-buttons div {\n",
              "      margin-bottom: 4px;\n",
              "    }\n",
              "\n",
              "    [theme=dark] .colab-df-convert {\n",
              "      background-color: #3B4455;\n",
              "      fill: #D2E3FC;\n",
              "    }\n",
              "\n",
              "    [theme=dark] .colab-df-convert:hover {\n",
              "      background-color: #434B5C;\n",
              "      box-shadow: 0px 1px 3px 1px rgba(0, 0, 0, 0.15);\n",
              "      filter: drop-shadow(0px 1px 2px rgba(0, 0, 0, 0.3));\n",
              "      fill: #FFFFFF;\n",
              "    }\n",
              "  </style>\n",
              "\n",
              "    <script>\n",
              "      const buttonEl =\n",
              "        document.querySelector('#df-6991b98c-63ae-4984-b570-a19148b44d32 button.colab-df-convert');\n",
              "      buttonEl.style.display =\n",
              "        google.colab.kernel.accessAllowed ? 'block' : 'none';\n",
              "\n",
              "      async function convertToInteractive(key) {\n",
              "        const element = document.querySelector('#df-6991b98c-63ae-4984-b570-a19148b44d32');\n",
              "        const dataTable =\n",
              "          await google.colab.kernel.invokeFunction('convertToInteractive',\n",
              "                                                    [key], {});\n",
              "        if (!dataTable) return;\n",
              "\n",
              "        const docLinkHtml = 'Like what you see? Visit the ' +\n",
              "          '<a target=\"_blank\" href=https://colab.research.google.com/notebooks/data_table.ipynb>data table notebook</a>'\n",
              "          + ' to learn more about interactive tables.';\n",
              "        element.innerHTML = '';\n",
              "        dataTable['output_type'] = 'display_data';\n",
              "        await google.colab.output.renderOutput(dataTable, element);\n",
              "        const docLink = document.createElement('div');\n",
              "        docLink.innerHTML = docLinkHtml;\n",
              "        element.appendChild(docLink);\n",
              "      }\n",
              "    </script>\n",
              "  </div>\n",
              "\n",
              "\n",
              "<div id=\"df-c8b03ae9-bbf4-480e-b19e-672e7d7bd364\">\n",
              "  <button class=\"colab-df-quickchart\" onclick=\"quickchart('df-c8b03ae9-bbf4-480e-b19e-672e7d7bd364')\"\n",
              "            title=\"Suggest charts\"\n",
              "            style=\"display:none;\">\n",
              "\n",
              "<svg xmlns=\"http://www.w3.org/2000/svg\" height=\"24px\"viewBox=\"0 0 24 24\"\n",
              "     width=\"24px\">\n",
              "    <g>\n",
              "        <path d=\"M19 3H5c-1.1 0-2 .9-2 2v14c0 1.1.9 2 2 2h14c1.1 0 2-.9 2-2V5c0-1.1-.9-2-2-2zM9 17H7v-7h2v7zm4 0h-2V7h2v10zm4 0h-2v-4h2v4z\"/>\n",
              "    </g>\n",
              "</svg>\n",
              "  </button>\n",
              "\n",
              "<style>\n",
              "  .colab-df-quickchart {\n",
              "      --bg-color: #E8F0FE;\n",
              "      --fill-color: #1967D2;\n",
              "      --hover-bg-color: #E2EBFA;\n",
              "      --hover-fill-color: #174EA6;\n",
              "      --disabled-fill-color: #AAA;\n",
              "      --disabled-bg-color: #DDD;\n",
              "  }\n",
              "\n",
              "  [theme=dark] .colab-df-quickchart {\n",
              "      --bg-color: #3B4455;\n",
              "      --fill-color: #D2E3FC;\n",
              "      --hover-bg-color: #434B5C;\n",
              "      --hover-fill-color: #FFFFFF;\n",
              "      --disabled-bg-color: #3B4455;\n",
              "      --disabled-fill-color: #666;\n",
              "  }\n",
              "\n",
              "  .colab-df-quickchart {\n",
              "    background-color: var(--bg-color);\n",
              "    border: none;\n",
              "    border-radius: 50%;\n",
              "    cursor: pointer;\n",
              "    display: none;\n",
              "    fill: var(--fill-color);\n",
              "    height: 32px;\n",
              "    padding: 0;\n",
              "    width: 32px;\n",
              "  }\n",
              "\n",
              "  .colab-df-quickchart:hover {\n",
              "    background-color: var(--hover-bg-color);\n",
              "    box-shadow: 0 1px 2px rgba(60, 64, 67, 0.3), 0 1px 3px 1px rgba(60, 64, 67, 0.15);\n",
              "    fill: var(--button-hover-fill-color);\n",
              "  }\n",
              "\n",
              "  .colab-df-quickchart-complete:disabled,\n",
              "  .colab-df-quickchart-complete:disabled:hover {\n",
              "    background-color: var(--disabled-bg-color);\n",
              "    fill: var(--disabled-fill-color);\n",
              "    box-shadow: none;\n",
              "  }\n",
              "\n",
              "  .colab-df-spinner {\n",
              "    border: 2px solid var(--fill-color);\n",
              "    border-color: transparent;\n",
              "    border-bottom-color: var(--fill-color);\n",
              "    animation:\n",
              "      spin 1s steps(1) infinite;\n",
              "  }\n",
              "\n",
              "  @keyframes spin {\n",
              "    0% {\n",
              "      border-color: transparent;\n",
              "      border-bottom-color: var(--fill-color);\n",
              "      border-left-color: var(--fill-color);\n",
              "    }\n",
              "    20% {\n",
              "      border-color: transparent;\n",
              "      border-left-color: var(--fill-color);\n",
              "      border-top-color: var(--fill-color);\n",
              "    }\n",
              "    30% {\n",
              "      border-color: transparent;\n",
              "      border-left-color: var(--fill-color);\n",
              "      border-top-color: var(--fill-color);\n",
              "      border-right-color: var(--fill-color);\n",
              "    }\n",
              "    40% {\n",
              "      border-color: transparent;\n",
              "      border-right-color: var(--fill-color);\n",
              "      border-top-color: var(--fill-color);\n",
              "    }\n",
              "    60% {\n",
              "      border-color: transparent;\n",
              "      border-right-color: var(--fill-color);\n",
              "    }\n",
              "    80% {\n",
              "      border-color: transparent;\n",
              "      border-right-color: var(--fill-color);\n",
              "      border-bottom-color: var(--fill-color);\n",
              "    }\n",
              "    90% {\n",
              "      border-color: transparent;\n",
              "      border-bottom-color: var(--fill-color);\n",
              "    }\n",
              "  }\n",
              "</style>\n",
              "\n",
              "  <script>\n",
              "    async function quickchart(key) {\n",
              "      const quickchartButtonEl =\n",
              "        document.querySelector('#' + key + ' button');\n",
              "      quickchartButtonEl.disabled = true;  // To prevent multiple clicks.\n",
              "      quickchartButtonEl.classList.add('colab-df-spinner');\n",
              "      try {\n",
              "        const charts = await google.colab.kernel.invokeFunction(\n",
              "            'suggestCharts', [key], {});\n",
              "      } catch (error) {\n",
              "        console.error('Error during call to suggestCharts:', error);\n",
              "      }\n",
              "      quickchartButtonEl.classList.remove('colab-df-spinner');\n",
              "      quickchartButtonEl.classList.add('colab-df-quickchart-complete');\n",
              "    }\n",
              "    (() => {\n",
              "      let quickchartButtonEl =\n",
              "        document.querySelector('#df-c8b03ae9-bbf4-480e-b19e-672e7d7bd364 button');\n",
              "      quickchartButtonEl.style.display =\n",
              "        google.colab.kernel.accessAllowed ? 'block' : 'none';\n",
              "    })();\n",
              "  </script>\n",
              "</div>\n",
              "\n",
              "    </div>\n",
              "  </div>\n"
            ],
            "application/vnd.google.colaboratory.intrinsic+json": {
              "type": "dataframe",
              "summary": "{\n  \"name\": \"empresas_interes\",\n  \"rows\": 4,\n  \"fields\": [\n    {\n      \"column\": \"date\",\n      \"properties\": {\n        \"dtype\": \"date\",\n        \"min\": \"1970-01-01 00:00:00.000000721\",\n        \"max\": \"2016-12-31 00:00:00\",\n        \"num_unique_values\": 4,\n        \"samples\": [\n          1134,\n          \"721\",\n          \"44935\"\n        ],\n        \"semantic_type\": \"\",\n        \"description\": \"\"\n      }\n    },\n    {\n      \"column\": \"symbol\",\n      \"properties\": {\n        \"dtype\": \"string\",\n        \"num_unique_values\": 4,\n        \"samples\": [\n          821,\n          \"75\",\n          \"44935\"\n        ],\n        \"semantic_type\": \"\",\n        \"description\": \"\"\n      }\n    },\n    {\n      \"column\": \"reportedCurrency\",\n      \"properties\": {\n        \"dtype\": \"string\",\n        \"num_unique_values\": 4,\n        \"samples\": [\n          15,\n          \"41498\",\n          \"44935\"\n        ],\n        \"semantic_type\": \"\",\n        \"description\": \"\"\n      }\n    },\n    {\n      \"column\": \"fillingDate\",\n      \"properties\": {\n        \"dtype\": \"date\",\n        \"min\": \"1970-01-01 00:00:00.000000188\",\n        \"max\": \"2013-12-31 00:00:00\",\n        \"num_unique_values\": 4,\n        \"samples\": [\n          3420,\n          \"188\",\n          \"44935\"\n        ],\n        \"semantic_type\": \"\",\n        \"description\": \"\"\n      }\n    },\n    {\n      \"column\": \"acceptedDate\",\n      \"properties\": {\n        \"dtype\": \"date\",\n        \"min\": \"1970-01-01 00:00:00.000000188\",\n        \"max\": \"2013-12-31 00:00:00\",\n        \"num_unique_values\": 4,\n        \"samples\": [\n          37708,\n          \"188\",\n          \"44934\"\n        ],\n        \"semantic_type\": \"\",\n        \"description\": \"\"\n      }\n    },\n    {\n      \"column\": \"period\",\n      \"properties\": {\n        \"dtype\": \"string\",\n        \"num_unique_values\": 4,\n        \"samples\": [\n          5,\n          \"11686\",\n          \"44935\"\n        ],\n        \"semantic_type\": \"\",\n        \"description\": \"\"\n      }\n    },\n    {\n      \"column\": \"link\",\n      \"properties\": {\n        \"dtype\": \"string\",\n        \"num_unique_values\": 4,\n        \"samples\": [\n          37610,\n          \"4\",\n          \"37863\"\n        ],\n        \"semantic_type\": \"\",\n        \"description\": \"\"\n      }\n    },\n    {\n      \"column\": \"finalLink\",\n      \"properties\": {\n        \"dtype\": \"string\",\n        \"num_unique_values\": 4,\n        \"samples\": [\n          33983,\n          \"4\",\n          \"37859\"\n        ],\n        \"semantic_type\": \"\",\n        \"description\": \"\"\n      }\n    }\n  ]\n}"
            }
          },
          "metadata": {},
          "execution_count": 27
        }
      ]
    },
    {
      "cell_type": "markdown",
      "source": [
        "Nos quedamos con 821 empresas empresas diferentes con al menos 30 observaciones."
      ],
      "metadata": {
        "id": "0ZoqJsPoFLnf"
      }
    },
    {
      "cell_type": "markdown",
      "source": [
        "# **1. Ventas crecientes o constantes**\n",
        "\n",
        "Empezaremos el anáslisis calculando la Tasa de Crecimiento Anual Compuesta o CAGR (Compound Annual Growth Rate) de los ingresos para cada empresa. Esta medida es ampliamente utilizada en finanzas para evaluar el crecimiento de una empresa, debido a que ayuda a suavizar los efectos de las fluctuaciones anuales y proporciona una visión clara del crecimiento a largo plazo. Lo que nos dice es el desempeño de la empresa en términos de generación de ingresos de manera consistente.\n",
        "\n",
        "Como queremos sacar las empresas sólidas, nos quedaremos solo con las empresas que muestren un CAGR positivo en los ingresos."
      ],
      "metadata": {
        "id": "FkLf3f791dib"
      }
    },
    {
      "cell_type": "code",
      "source": [
        "# Trasformar las fechas a formato fecha datatime para poder operar\n",
        "empresas_interes['date'] = pd.to_datetime(empresas_interes['date'])\n",
        "\n",
        "# Filtrar las fechas mínimas y máximas para cada empresa\n",
        "min_fecha = empresas_interes.groupby('symbol')['date'].min()\n",
        "max_fecha = empresas_interes.groupby('symbol')['date'].max()\n",
        "\n",
        "# Filtrar las ventas iniciales y finales para cada empresa\n",
        "inicio_ventas = empresas_interes.groupby('symbol').apply(lambda x: x[x['date'] == min_fecha[x.name]]['revenue'].iloc[0])\n",
        "fin_ventas = empresas_interes.groupby('symbol').apply(lambda x: x[x['date'] == max_fecha[x.name]]['revenue'].iloc[0])\n",
        "\n",
        "# Calcular el número de años entre las fechas mínimas y máximas\n",
        "años = (max_fecha - min_fecha).dt.days / 365\n",
        "\n",
        "# Calcular el CAGR de ventas para cada empresa\n",
        "cagr_ventas = ((fin_ventas / inicio_ventas) ** (1 / años)) - 1\n",
        "\n",
        "# Filtrar empresas con CAGR positivo\n",
        "cagr_positivo = cagr_ventas[cagr_ventas > 0]\n",
        "\n",
        "cagr_positivo"
      ],
      "metadata": {
        "colab": {
          "base_uri": "https://localhost:8080/"
        },
        "id": "--LW1cmrk-NW",
        "outputId": "920b46a3-c86c-47b0-bd0f-12252161e8c1"
      },
      "execution_count": 30,
      "outputs": [
        {
          "output_type": "stream",
          "name": "stderr",
          "text": [
            "<ipython-input-30-8620d6717dc3>:2: SettingWithCopyWarning: \n",
            "A value is trying to be set on a copy of a slice from a DataFrame.\n",
            "Try using .loc[row_indexer,col_indexer] = value instead\n",
            "\n",
            "See the caveats in the documentation: https://pandas.pydata.org/pandas-docs/stable/user_guide/indexing.html#returning-a-view-versus-a-copy\n",
            "  empresas_interes['date'] = pd.to_datetime(empresas_interes['date'])\n"
          ]
        },
        {
          "output_type": "execute_result",
          "data": {
            "text/plain": [
              "symbol\n",
              "AAL     0.035224\n",
              "AAPL    0.209878\n",
              "AAWW    0.075450\n",
              "ABB     0.008507\n",
              "ABCB    0.174854\n",
              "          ...   \n",
              "ZG      0.676855\n",
              "ZION    0.009790\n",
              "ZIXI    0.187021\n",
              "ZNGA    0.183941\n",
              "ZYXI    0.251780\n",
              "Length: 713, dtype: float64"
            ]
          },
          "metadata": {},
          "execution_count": 30
        }
      ]
    },
    {
      "cell_type": "markdown",
      "source": [
        "Con esto logramos descartar algunas empresas.\n",
        "\n",
        "Vamos a generar un gráfico para ejempleficar que tipo de empresas queremos tener cuando nos referimos a CAGR de ingresos positivo."
      ],
      "metadata": {
        "id": "Pt7Hba8hN3hV"
      }
    },
    {
      "cell_type": "code",
      "source": [
        "# Filtrar para una empresa\n",
        "aapl = empresas_interes[empresas_interes['symbol'] == 'AAPL']\n",
        "\n",
        "# Crear el gráfico de barras\n",
        "plt.figure(figsize=(10, 6))\n",
        "sns.barplot(data=aapl, x='date', y='revenue', palette='viridis')\n",
        "\n",
        "# Añadir títulos y etiquetas\n",
        "plt.title('Ventas de Apple en 2007-2021', fontsize=16)\n",
        "plt.xlabel('Periodo', fontsize=14)\n",
        "plt.ylabel('Ventas (en miles de millones USD)', fontsize=14)\n",
        "\n",
        "# Mostrar el gráfico\n",
        "plt.show()\n",
        "\n"
      ],
      "metadata": {
        "colab": {
          "base_uri": "https://localhost:8080/",
          "height": 658
        },
        "id": "S2x9NMwVOyjo",
        "outputId": "7dda08f3-0dd6-41ad-bf3b-59d9ce326906"
      },
      "execution_count": 45,
      "outputs": [
        {
          "output_type": "stream",
          "name": "stderr",
          "text": [
            "<ipython-input-45-f01a606dcaaa>:6: FutureWarning: \n",
            "\n",
            "Passing `palette` without assigning `hue` is deprecated and will be removed in v0.14.0. Assign the `x` variable to `hue` and set `legend=False` for the same effect.\n",
            "\n",
            "  sns.barplot(data=aapl, x='date', y='revenue', palette='viridis')\n"
          ]
        },
        {
          "output_type": "display_data",
          "data": {
            "text/plain": [
              "<Figure size 1000x600 with 1 Axes>"
            ],
            "image/png": "[encoded data removed]"
          },
          "metadata": {}
        }
      ]
    },
    {
      "cell_type": "markdown",
      "source": [
        "El gráfico ilustra el crecimiento de las ventas de Apple de 2007 a 2021. Este comportamiento es lo que buscamos, una tendencia de crecimiento de largo plazo que ejemplifique un auge de las ventas. El CAGR nos ayuda a darle un valor numerico a esa cuestión."
      ],
      "metadata": {
        "id": "rWU6mC7lTWPk"
      }
    },
    {
      "cell_type": "markdown",
      "source": [
        "# **2. No más de 8/60 Utilidad Neta negativa**\n",
        "\n",
        "Ahora pondremos atención a la utilidad neta. Tener pérdidas en algunos trimestres no necesariamente indica que una empresa está en problemas si estas pérdidas son manejables y se producen en un contexto de declive general o eventos excepcionales.\n",
        "\n",
        "Sin embargo no podemos permitir que esto suceda en repetidas ocaciones. Al estar analizando 60 trimestres, no podemos permitir más de 8 trimestres con pérdidas. De ser así, esto significa que la empresa puede enfrentar problemas temporales sin poner en riesgo su estabilidad a largo plazo. Empresas con pérdidas intermitentes pueden demostrar su capacidad de recuperarse y seguir siendo rentables a largo plazo."
      ],
      "metadata": {
        "id": "gUTzUnGk4wC8"
      }
    },
    {
      "cell_type": "code",
      "source": [
        "max_8_negativos = []\n",
        "\n",
        "for symbol, group in empresas_interes.groupby('symbol'):\n",
        "    try:\n",
        "        conteo_negativos = (group['netIncome'] < 0).sum()\n",
        "        if conteo_negativos <= 8:\n",
        "            max_8_negativos.append([symbol, conteo_negativos])\n",
        "    except:\n",
        "        continue\n",
        "\n",
        "mun_negativos = pd.DataFrame(max_8_negativos, columns=[\"symbol\", \"num_negativos_netIncome\"])\n",
        "print(mun_negativos)"
      ],
      "metadata": {
        "colab": {
          "base_uri": "https://localhost:8080/"
        },
        "id": "pTFwxTDPnKYp",
        "outputId": "5a8cf82a-f581-4829-e0cb-a1d8a37dfa1d"
      },
      "execution_count": 32,
      "outputs": [
        {
          "output_type": "stream",
          "name": "stdout",
          "text": [
            "    symbol  num_negativos_netIncome\n",
            "0     AAPL                        0\n",
            "1      ABB                        1\n",
            "2      ACN                        0\n",
            "3     ADBE                        1\n",
            "4      ADM                        0\n",
            "..     ...                      ...\n",
            "431     WU                        2\n",
            "432    XOM                        4\n",
            "433    XRX                        6\n",
            "434   YNDX                        4\n",
            "435     YY                        5\n",
            "\n",
            "[436 rows x 2 columns]\n"
          ]
        }
      ]
    },
    {
      "cell_type": "markdown",
      "source": [
        "Solo 436 empresas no registran mas de 8 periodos con pérdida en los últimos 15 años.\n",
        "\n",
        "Ahora realizaremos un gráfico para demostras lo que buscamos."
      ],
      "metadata": {
        "id": "68oBph6eV9HI"
      }
    },
    {
      "cell_type": "code",
      "source": [
        "# Filtrar para una empresa\n",
        "xom = empresas_interes[empresas_interes['symbol'] == 'XOM']\n",
        "\n",
        "# Crear el gráfico de barras\n",
        "plt.figure(figsize=(10, 6))\n",
        "sns.barplot(data=xom, x='date', y='netIncome', palette='viridis')\n",
        "\n",
        "# Añadir títulos y etiquetas\n",
        "plt.title('Utilidad Neta de Exxon Mobile 2007-2021', fontsize=16)\n",
        "plt.xlabel('Periodo', fontsize=14)\n",
        "plt.ylabel('Utilidad Neta (en miles de millones USD)', fontsize=14)\n",
        "\n",
        "# Mostrar el gráfico\n",
        "plt.show()"
      ],
      "metadata": {
        "colab": {
          "base_uri": "https://localhost:8080/",
          "height": 658
        },
        "id": "7k5o9eV8V9Zf",
        "outputId": "22c44620-adf8-49a5-b66d-f53420a0e22d"
      },
      "execution_count": 33,
      "outputs": [
        {
          "output_type": "stream",
          "name": "stderr",
          "text": [
            "<ipython-input-33-eaff560aa32c>:6: FutureWarning: \n",
            "\n",
            "Passing `palette` without assigning `hue` is deprecated and will be removed in v0.14.0. Assign the `x` variable to `hue` and set `legend=False` for the same effect.\n",
            "\n",
            "  sns.barplot(data=xom, x='date', y='netIncome', palette='viridis')\n"
          ]
        },
        {
          "output_type": "display_data",
          "data": {
            "text/plain": [
              "<Figure size 1000x600 with 1 Axes>"
            ],
            "image/png": "[encoded data removed]"
          },
          "metadata": {}
        }
      ]
    },
    {
      "cell_type": "markdown",
      "source": [
        "El gráfico anterior ejemplifica que Exxon tuvo un periodo de pérdidas en los años de la pandemia Covid-19 y una recuperación en los ultimos trimestres registrados. Sin embargo, son muy pocas bajas (apenas 4) para pensar que Exxon esta quebrada, solo paso por un mal momento y sus utilidades hasta antes de esta situación eran simpre positivas. Por lo que considerariamos que cumple con la regla y se puede invertir en ella."
      ],
      "metadata": {
        "id": "AXwpkPLDXFXD"
      }
    },
    {
      "cell_type": "markdown",
      "source": [
        "# **3. Mayor CAGR Ventas vs. Costos:**\n",
        "Ahora volvemos a calcular el CAGR pero ahora para los costos de venta. Para despues compararlos con el CAGR de las ventas. Esto nos da una visión de cómo están creciendo las ventas en relación con los costos. La diferencia entre estos dos CAGRs puede revelar mucho sobre la eficiencia operativa y la facilidad de crear utilidad bruta a largo plazo de la empresa.\n",
        "\n",
        "Obtendremos la diferencia entre ambos y nos quedaremos solo con los positivos. Esto represeta una gestión efectiva de los costos y la mejora en la eficiencia de las operaciones pueden contribuir a un crecimiento de los ingresos mayor que el de los costos."
      ],
      "metadata": {
        "id": "_Fu9hPXF6yle"
      }
    },
    {
      "cell_type": "code",
      "source": [
        "# Filtrar las ventas iniciales y finales para cada empresa\n",
        "inicio_costo = empresas_interes.groupby('symbol').apply(lambda x: x[x['date'] == min_fecha[x.name]]['costOfRevenue'].iloc[0])\n",
        "fin_costo = empresas_interes.groupby('symbol').apply(lambda x: x[x['date'] == max_fecha[x.name]]['costOfRevenue'].iloc[0])\n",
        "\n",
        "# Calcular el CAGR de los costos para cada empresa\n",
        "cagr_costos = ((fin_costo / inicio_costo) ** (1 / años)) - 1\n",
        "\n",
        "# Filtrar las empresas donde el CAGR de ingresos es mayor que el CAGR de los costos\n",
        "diferencia = cagr_ventas - cagr_costos\n",
        "mayor_cagr_ventas = diferencia[diferencia > 0]\n",
        "\n",
        "mayor_cagr_ventas.to_csv(\"empresas\")"
      ],
      "metadata": {
        "id": "n_18nZiXqoPn"
      },
      "execution_count": 34,
      "outputs": []
    },
    {
      "cell_type": "markdown",
      "source": [
        "Nos quedamos con solo 345 de empresas que cumplen la regla. Obviamente entre mayor sea la diferencia mejor, no obstante, basta con que sea positiva para ser buen indicador.\n",
        "\n",
        "Ahora vamos a hacer un gráfico para ilustrar este indicador.\n"
      ],
      "metadata": {
        "id": "g-ndvR-MGwdP"
      }
    },
    {
      "cell_type": "code",
      "source": [
        "# Filtrar para una empresa\n",
        "tsla = empresas_interes[empresas_interes['symbol'] == 'TSLA']\n",
        "\n",
        "# Crear el gráfico de líneas\n",
        "plt.figure(figsize=(10, 6))\n",
        "plt.plot(tsla['date'], tsla['revenue'], marker='o', linestyle='-', color='b', label='Revenue')\n",
        "plt.plot(tsla['date'], tsla['costOfRevenue'], marker='o', linestyle='-', color='r', label='Cost of Revenue')\n",
        "\n",
        "# Añadir títulos y etiquetas\n",
        "plt.title('Ingresos vs Costo de venta de TSLA', fontsize=16)\n",
        "plt.xlabel('Periodo', fontsize=14)\n",
        "plt.ylabel('Miles de millones USD', fontsize=14)\n",
        "plt.legend()\n",
        "\n",
        "# Mostrar el gráfico\n",
        "plt.grid(True)\n",
        "plt.show()"
      ],
      "metadata": {
        "colab": {
          "base_uri": "https://localhost:8080/",
          "height": 571
        },
        "id": "nSE2VCa7bmli",
        "outputId": "7376554f-8463-472e-d2d5-11f37cccc6e2"
      },
      "execution_count": 38,
      "outputs": [
        {
          "output_type": "display_data",
          "data": {
            "text/plain": [
              "<Figure size 1000x600 with 1 Axes>"
            ],
            "image/png": "[encoded data removed]"
          },
          "metadata": {}
        }
      ]
    },
    {
      "cell_type": "markdown",
      "source": [
        "En la gráfica se aprecia como los ingresos se separan mucho de los costos  despues de 2020. Además, nos ilustra como en los últimos años han crecido más rápido los ingresos que los costos."
      ],
      "metadata": {
        "id": "8lJiLuwnmxrh"
      }
    },
    {
      "cell_type": "markdown",
      "source": [
        "# **Empresas que cumplen con las tres reglas**\n",
        "Al final tenemos un grupo de empresas que al cumplir con estos criterios se vuelven confiables para inversiones de largo plazo. Es importante destacar que se debe analizar el instrumento de inversión de dicha empresa pero con este pequeño analisis se puede demostrar la fiabilidad y estabilidad de estas empresas."
      ],
      "metadata": {
        "id": "U2-8QnJx9cdx"
      }
    },
    {
      "cell_type": "code",
      "source": [
        "# Convertir las Series en DataFrames\n",
        "cagr_positivo_df = cagr_positivo.reset_index().rename(columns= {0 : \"cagr_sales\"})\n",
        "mayor_cagr_ventas_df = mayor_cagr_ventas.reset_index().rename(columns={0: 'dif_cagrs'})\n",
        "\n",
        "# Unir los DataFrames\n",
        "empresas_solidas = cagr_positivo_df.merge(mun_negativos, on='symbol', how='inner')\n",
        "empresas_solidas = empresas_solidas.merge(mayor_cagr_ventas_df, on='symbol', how='inner')\n",
        "\n",
        "empresas_solidas"
      ],
      "metadata": {
        "colab": {
          "base_uri": "https://localhost:8080/",
          "height": 424
        },
        "id": "r1k4vbmKsmj7",
        "outputId": "b430b817-7a5f-452e-da04-02e3ad0a0d59"
      },
      "execution_count": 36,
      "outputs": [
        {
          "output_type": "execute_result",
          "data": {
            "text/plain": [
              "    symbol  cagr_sales  num_negativos_netIncome  dif_cagrs\n",
              "0     AAPL    0.209878                        0   0.009591\n",
              "1      ABB    0.008507                        1   0.001779\n",
              "2      ACN    0.074651                        0   0.005891\n",
              "3      ADS    0.048986                        1   0.018862\n",
              "4      AMN    0.080875                        8   0.009901\n",
              "..     ...         ...                      ...        ...\n",
              "161    WNS    0.064358                        3   0.011100\n",
              "162    WOR    0.041409                        6   0.005303\n",
              "163    WRK    0.160672                        4   0.000409\n",
              "164    WTS    0.019048                        6   0.010711\n",
              "165     WU    0.008906                        2   0.001352\n",
              "\n",
              "[166 rows x 4 columns]"
            ],
            "text/html": [
              "\n",
              "  <div id=\"df-7bbaf961-cdd0-4363-a916-10dc915aff4c\" class=\"colab-df-container\">\n",
              "    <div>\n",
              "<style scoped>\n",
              "    .dataframe tbody tr th:only-of-type {\n",
              "        vertical-align: middle;\n",
              "    }\n",
              "\n",
              "    .dataframe tbody tr th {\n",
              "        vertical-align: top;\n",
              "    }\n",
              "\n",
              "    .dataframe thead th {\n",
              "        text-align: right;\n",
              "    }\n",
              "</style>\n",
              "<table border=\"1\" class=\"dataframe\">\n",
              "  <thead>\n",
              "    <tr style=\"text-align: right;\">\n",
              "      <th></th>\n",
              "      <th>symbol</th>\n",
              "      <th>cagr_sales</th>\n",
              "      <th>num_negativos_netIncome</th>\n",
              "      <th>dif_cagrs</th>\n",
              "    </tr>\n",
              "  </thead>\n",
              "  <tbody>\n",
              "    <tr>\n",
              "      <th>0</th>\n",
              "      <td>AAPL</td>\n",
              "      <td>0.209878</td>\n",
              "      <td>0</td>\n",
              "      <td>0.009591</td>\n",
              "    </tr>\n",
              "    <tr>\n",
              "      <th>1</th>\n",
              "      <td>ABB</td>\n",
              "      <td>0.008507</td>\n",
              "      <td>1</td>\n",
              "      <td>0.001779</td>\n",
              "    </tr>\n",
              "    <tr>\n",
              "      <th>2</th>\n",
              "      <td>ACN</td>\n",
              "      <td>0.074651</td>\n",
              "      <td>0</td>\n",
              "      <td>0.005891</td>\n",
              "    </tr>\n",
              "    <tr>\n",
              "      <th>3</th>\n",
              "      <td>ADS</td>\n",
              "      <td>0.048986</td>\n",
              "      <td>1</td>\n",
              "      <td>0.018862</td>\n",
              "    </tr>\n",
              "    <tr>\n",
              "      <th>4</th>\n",
              "      <td>AMN</td>\n",
              "      <td>0.080875</td>\n",
              "      <td>8</td>\n",
              "      <td>0.009901</td>\n",
              "    </tr>\n",
              "    <tr>\n",
              "      <th>...</th>\n",
              "      <td>...</td>\n",
              "      <td>...</td>\n",
              "      <td>...</td>\n",
              "      <td>...</td>\n",
              "    </tr>\n",
              "    <tr>\n",
              "      <th>161</th>\n",
              "      <td>WNS</td>\n",
              "      <td>0.064358</td>\n",
              "      <td>3</td>\n",
              "      <td>0.011100</td>\n",
              "    </tr>\n",
              "    <tr>\n",
              "      <th>162</th>\n",
              "      <td>WOR</td>\n",
              "      <td>0.041409</td>\n",
              "      <td>6</td>\n",
              "      <td>0.005303</td>\n",
              "    </tr>\n",
              "    <tr>\n",
              "      <th>163</th>\n",
              "      <td>WRK</td>\n",
              "      <td>0.160672</td>\n",
              "      <td>4</td>\n",
              "      <td>0.000409</td>\n",
              "    </tr>\n",
              "    <tr>\n",
              "      <th>164</th>\n",
              "      <td>WTS</td>\n",
              "      <td>0.019048</td>\n",
              "      <td>6</td>\n",
              "      <td>0.010711</td>\n",
              "    </tr>\n",
              "    <tr>\n",
              "      <th>165</th>\n",
              "      <td>WU</td>\n",
              "      <td>0.008906</td>\n",
              "      <td>2</td>\n",
              "      <td>0.001352</td>\n",
              "    </tr>\n",
              "  </tbody>\n",
              "</table>\n",
              "<p>166 rows × 4 columns</p>\n",
              "</div>\n",
              "    <div class=\"colab-df-buttons\">\n",
              "\n",
              "  <div class=\"colab-df-container\">\n",
              "    <button class=\"colab-df-convert\" onclick=\"convertToInteractive('df-7bbaf961-cdd0-4363-a916-10dc915aff4c')\"\n",
              "            title=\"Convert this dataframe to an interactive table.\"\n",
              "            style=\"display:none;\">\n",
              "\n",
              "  <svg xmlns=\"http://www.w3.org/2000/svg\" height=\"24px\" viewBox=\"0 -960 960 960\">\n",
              "    <path d=\"M120-120v-720h720v720H120Zm60-500h600v-160H180v160Zm220 220h160v-160H400v160Zm0 220h160v-160H400v160ZM180-400h160v-160H180v160Zm440 0h160v-160H620v160ZM180-180h160v-160H180v160Zm440 0h160v-160H620v160Z\"/>\n",
              "  </svg>\n",
              "    </button>\n",
              "\n",
              "  <style>\n",
              "    .colab-df-container {\n",
              "      display:flex;\n",
              "      gap: 12px;\n",
              "    }\n",
              "\n",
              "    .colab-df-convert {\n",
              "      background-color: #E8F0FE;\n",
              "      border: none;\n",
              "      border-radius: 50%;\n",
              "      cursor: pointer;\n",
              "      display: none;\n",
              "      fill: #1967D2;\n",
              "      height: 32px;\n",
              "      padding: 0 0 0 0;\n",
              "      width: 32px;\n",
              "    }\n",
              "\n",
              "    .colab-df-convert:hover {\n",
              "      background-color: #E2EBFA;\n",
              "      box-shadow: 0px 1px 2px rgba(60, 64, 67, 0.3), 0px 1px 3px 1px rgba(60, 64, 67, 0.15);\n",
              "      fill: #174EA6;\n",
              "    }\n",
              "\n",
              "    .colab-df-buttons div {\n",
              "      margin-bottom: 4px;\n",
              "    }\n",
              "\n",
              "    [theme=dark] .colab-df-convert {\n",
              "      background-color: #3B4455;\n",
              "      fill: #D2E3FC;\n",
              "    }\n",
              "\n",
              "    [theme=dark] .colab-df-convert:hover {\n",
              "      background-color: #434B5C;\n",
              "      box-shadow: 0px 1px 3px 1px rgba(0, 0, 0, 0.15);\n",
              "      filter: drop-shadow(0px 1px 2px rgba(0, 0, 0, 0.3));\n",
              "      fill: #FFFFFF;\n",
              "    }\n",
              "  </style>\n",
              "\n",
              "    <script>\n",
              "      const buttonEl =\n",
              "        document.querySelector('#df-7bbaf961-cdd0-4363-a916-10dc915aff4c button.colab-df-convert');\n",
              "      buttonEl.style.display =\n",
              "        google.colab.kernel.accessAllowed ? 'block' : 'none';\n",
              "\n",
              "      async function convertToInteractive(key) {\n",
              "        const element = document.querySelector('#df-7bbaf961-cdd0-4363-a916-10dc915aff4c');\n",
              "        const dataTable =\n",
              "          await google.colab.kernel.invokeFunction('convertToInteractive',\n",
              "                                                    [key], {});\n",
              "        if (!dataTable) return;\n",
              "\n",
              "        const docLinkHtml = 'Like what you see? Visit the ' +\n",
              "          '<a target=\"_blank\" href=https://colab.research.google.com/notebooks/data_table.ipynb>data table notebook</a>'\n",
              "          + ' to learn more about interactive tables.';\n",
              "        element.innerHTML = '';\n",
              "        dataTable['output_type'] = 'display_data';\n",
              "        await google.colab.output.renderOutput(dataTable, element);\n",
              "        const docLink = document.createElement('div');\n",
              "        docLink.innerHTML = docLinkHtml;\n",
              "        element.appendChild(docLink);\n",
              "      }\n",
              "    </script>\n",
              "  </div>\n",
              "\n",
              "\n",
              "<div id=\"df-19367b3b-e907-43f8-b479-5895d2c84b9b\">\n",
              "  <button class=\"colab-df-quickchart\" onclick=\"quickchart('df-19367b3b-e907-43f8-b479-5895d2c84b9b')\"\n",
              "            title=\"Suggest charts\"\n",
              "            style=\"display:none;\">\n",
              "\n",
              "<svg xmlns=\"http://www.w3.org/2000/svg\" height=\"24px\"viewBox=\"0 0 24 24\"\n",
              "     width=\"24px\">\n",
              "    <g>\n",
              "        <path d=\"M19 3H5c-1.1 0-2 .9-2 2v14c0 1.1.9 2 2 2h14c1.1 0 2-.9 2-2V5c0-1.1-.9-2-2-2zM9 17H7v-7h2v7zm4 0h-2V7h2v10zm4 0h-2v-4h2v4z\"/>\n",
              "    </g>\n",
              "</svg>\n",
              "  </button>\n",
              "\n",
              "<style>\n",
              "  .colab-df-quickchart {\n",
              "      --bg-color: #E8F0FE;\n",
              "      --fill-color: #1967D2;\n",
              "      --hover-bg-color: #E2EBFA;\n",
              "      --hover-fill-color: #174EA6;\n",
              "      --disabled-fill-color: #AAA;\n",
              "      --disabled-bg-color: #DDD;\n",
              "  }\n",
              "\n",
              "  [theme=dark] .colab-df-quickchart {\n",
              "      --bg-color: #3B4455;\n",
              "      --fill-color: #D2E3FC;\n",
              "      --hover-bg-color: #434B5C;\n",
              "      --hover-fill-color: #FFFFFF;\n",
              "      --disabled-bg-color: #3B4455;\n",
              "      --disabled-fill-color: #666;\n",
              "  }\n",
              "\n",
              "  .colab-df-quickchart {\n",
              "    background-color: var(--bg-color);\n",
              "    border: none;\n",
              "    border-radius: 50%;\n",
              "    cursor: pointer;\n",
              "    display: none;\n",
              "    fill: var(--fill-color);\n",
              "    height: 32px;\n",
              "    padding: 0;\n",
              "    width: 32px;\n",
              "  }\n",
              "\n",
              "  .colab-df-quickchart:hover {\n",
              "    background-color: var(--hover-bg-color);\n",
              "    box-shadow: 0 1px 2px rgba(60, 64, 67, 0.3), 0 1px 3px 1px rgba(60, 64, 67, 0.15);\n",
              "    fill: var(--button-hover-fill-color);\n",
              "  }\n",
              "\n",
              "  .colab-df-quickchart-complete:disabled,\n",
              "  .colab-df-quickchart-complete:disabled:hover {\n",
              "    background-color: var(--disabled-bg-color);\n",
              "    fill: var(--disabled-fill-color);\n",
              "    box-shadow: none;\n",
              "  }\n",
              "\n",
              "  .colab-df-spinner {\n",
              "    border: 2px solid var(--fill-color);\n",
              "    border-color: transparent;\n",
              "    border-bottom-color: var(--fill-color);\n",
              "    animation:\n",
              "      spin 1s steps(1) infinite;\n",
              "  }\n",
              "\n",
              "  @keyframes spin {\n",
              "    0% {\n",
              "      border-color: transparent;\n",
              "      border-bottom-color: var(--fill-color);\n",
              "      border-left-color: var(--fill-color);\n",
              "    }\n",
              "    20% {\n",
              "      border-color: transparent;\n",
              "      border-left-color: var(--fill-color);\n",
              "      border-top-color: var(--fill-color);\n",
              "    }\n",
              "    30% {\n",
              "      border-color: transparent;\n",
              "      border-left-color: var(--fill-color);\n",
              "      border-top-color: var(--fill-color);\n",
              "      border-right-color: var(--fill-color);\n",
              "    }\n",
              "    40% {\n",
              "      border-color: transparent;\n",
              "      border-right-color: var(--fill-color);\n",
              "      border-top-color: var(--fill-color);\n",
              "    }\n",
              "    60% {\n",
              "      border-color: transparent;\n",
              "      border-right-color: var(--fill-color);\n",
              "    }\n",
              "    80% {\n",
              "      border-color: transparent;\n",
              "      border-right-color: var(--fill-color);\n",
              "      border-bottom-color: var(--fill-color);\n",
              "    }\n",
              "    90% {\n",
              "      border-color: transparent;\n",
              "      border-bottom-color: var(--fill-color);\n",
              "    }\n",
              "  }\n",
              "</style>\n",
              "\n",
              "  <script>\n",
              "    async function quickchart(key) {\n",
              "      const quickchartButtonEl =\n",
              "        document.querySelector('#' + key + ' button');\n",
              "      quickchartButtonEl.disabled = true;  // To prevent multiple clicks.\n",
              "      quickchartButtonEl.classList.add('colab-df-spinner');\n",
              "      try {\n",
              "        const charts = await google.colab.kernel.invokeFunction(\n",
              "            'suggestCharts', [key], {});\n",
              "      } catch (error) {\n",
              "        console.error('Error during call to suggestCharts:', error);\n",
              "      }\n",
              "      quickchartButtonEl.classList.remove('colab-df-spinner');\n",
              "      quickchartButtonEl.classList.add('colab-df-quickchart-complete');\n",
              "    }\n",
              "    (() => {\n",
              "      let quickchartButtonEl =\n",
              "        document.querySelector('#df-19367b3b-e907-43f8-b479-5895d2c84b9b button');\n",
              "      quickchartButtonEl.style.display =\n",
              "        google.colab.kernel.accessAllowed ? 'block' : 'none';\n",
              "    })();\n",
              "  </script>\n",
              "</div>\n",
              "\n",
              "  <div id=\"id_f0fc2844-3291-4ab0-a781-78cb112d2784\">\n",
              "    <style>\n",
              "      .colab-df-generate {\n",
              "        background-color: #E8F0FE;\n",
              "        border: none;\n",
              "        border-radius: 50%;\n",
              "        cursor: pointer;\n",
              "        display: none;\n",
              "        fill: #1967D2;\n",
              "        height: 32px;\n",
              "        padding: 0 0 0 0;\n",
              "        width: 32px;\n",
              "      }\n",
              "\n",
              "      .colab-df-generate:hover {\n",
              "        background-color: #E2EBFA;\n",
              "        box-shadow: 0px 1px 2px rgba(60, 64, 67, 0.3), 0px 1px 3px 1px rgba(60, 64, 67, 0.15);\n",
              "        fill: #174EA6;\n",
              "      }\n",
              "\n",
              "      [theme=dark] .colab-df-generate {\n",
              "        background-color: #3B4455;\n",
              "        fill: #D2E3FC;\n",
              "      }\n",
              "\n",
              "      [theme=dark] .colab-df-generate:hover {\n",
              "        background-color: #434B5C;\n",
              "        box-shadow: 0px 1px 3px 1px rgba(0, 0, 0, 0.15);\n",
              "        filter: drop-shadow(0px 1px 2px rgba(0, 0, 0, 0.3));\n",
              "        fill: #FFFFFF;\n",
              "      }\n",
              "    </style>\n",
              "    <button class=\"colab-df-generate\" onclick=\"generateWithVariable('empresas_solidas')\"\n",
              "            title=\"Generate code using this dataframe.\"\n",
              "            style=\"display:none;\">\n",
              "\n",
              "  <svg xmlns=\"http://www.w3.org/2000/svg\" height=\"24px\"viewBox=\"0 0 24 24\"\n",
              "       width=\"24px\">\n",
              "    <path d=\"M7,19H8.4L18.45,9,17,7.55,7,17.6ZM5,21V16.75L18.45,3.32a2,2,0,0,1,2.83,0l1.4,1.43a1.91,1.91,0,0,1,.58,1.4,1.91,1.91,0,0,1-.58,1.4L9.25,21ZM18.45,9,17,7.55Zm-12,3A5.31,5.31,0,0,0,4.9,8.1,5.31,5.31,0,0,0,1,6.5,5.31,5.31,0,0,0,4.9,4.9,5.31,5.31,0,0,0,6.5,1,5.31,5.31,0,0,0,8.1,4.9,5.31,5.31,0,0,0,12,6.5,5.46,5.46,0,0,0,6.5,12Z\"/>\n",
              "  </svg>\n",
              "    </button>\n",
              "    <script>\n",
              "      (() => {\n",
              "      const buttonEl =\n",
              "        document.querySelector('#id_f0fc2844-3291-4ab0-a781-78cb112d2784 button.colab-df-generate');\n",
              "      buttonEl.style.display =\n",
              "        google.colab.kernel.accessAllowed ? 'block' : 'none';\n",
              "\n",
              "      buttonEl.onclick = () => {\n",
              "        google.colab.notebook.generateWithVariable('empresas_solidas');\n",
              "      }\n",
              "      })();\n",
              "    </script>\n",
              "  </div>\n",
              "\n",
              "    </div>\n",
              "  </div>\n"
            ],
            "application/vnd.google.colaboratory.intrinsic+json": {
              "type": "dataframe",
              "variable_name": "empresas_solidas",
              "summary": "{\n  \"name\": \"empresas_solidas\",\n  \"rows\": 166,\n  \"fields\": [\n    {\n      \"column\": \"symbol\",\n      \"properties\": {\n        \"dtype\": \"string\",\n        \"num_unique_values\": 166,\n        \"samples\": [\n          \"NOC\",\n          \"SUN\",\n          \"LANC\"\n        ],\n        \"semantic_type\": \"\",\n        \"description\": \"\"\n      }\n    },\n    {\n      \"column\": \"cagr_sales\",\n      \"properties\": {\n        \"dtype\": \"number\",\n        \"std\": 0.12373020328669282,\n        \"min\": 0.0013139172925449305,\n        \"max\": 1.286438925513354,\n        \"num_unique_values\": 165,\n        \"samples\": [\n          0.17834262136557344,\n          0.2103276701399932,\n          0.21335261799214922\n        ],\n        \"semantic_type\": \"\",\n        \"description\": \"\"\n      }\n    },\n    {\n      \"column\": \"num_negativos_netIncome\",\n      \"properties\": {\n        \"dtype\": \"number\",\n        \"std\": 2,\n        \"min\": 0,\n        \"max\": 8,\n        \"num_unique_values\": 9,\n        \"samples\": [\n          6,\n          1,\n          4\n        ],\n        \"semantic_type\": \"\",\n        \"description\": \"\"\n      }\n    },\n    {\n      \"column\": \"dif_cagrs\",\n      \"properties\": {\n        \"dtype\": \"number\",\n        \"std\": 0.18103576958530643,\n        \"min\": 5.9544686896062515e-05,\n        \"max\": 1.383269183383988,\n        \"num_unique_values\": 165,\n        \"samples\": [\n          0.005141379548168068,\n          0.014353815958531913,\n          0.012575756543836025\n        ],\n        \"semantic_type\": \"\",\n        \"description\": \"\"\n      }\n    }\n  ]\n}"
            }
          },
          "metadata": {},
          "execution_count": 36
        }
      ]
    },
    {
      "cell_type": "markdown",
      "source": [
        "# **Conclusiones**\n",
        "\n",
        "Empezamos con 821 empresas y nos quedamos al final con 166. Esto quiere decir que tenemos certeza de la fiabilidad y la estabilidad de estas empresas, reduciendo el universo de inversión a empresas que tendran mejores resultados.\n",
        "\n",
        "Es importante destacar que se debe analizar el instrumento de inversión de dicha empresa, pues este análisis escapa de muchas otras variables afectan esos instrumentos."
      ],
      "metadata": {
        "id": "7ydjkWC_Hf5F"
      }
    }
  ]
}