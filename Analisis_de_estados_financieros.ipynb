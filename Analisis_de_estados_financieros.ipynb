{
  "nbformat": 4,
  "nbformat_minor": 0,
  "metadata": {
    "colab": {
      "provenance": [],
      "authorship_tag": "ABX9TyM7h2Xl2dG5EcqO3FoG6F//",
      "include_colab_link": true
    },
    "kernelspec": {
      "name": "python3",
      "display_name": "Python 3"
    },
    "language_info": {
      "name": "python"
    }
  },
  "cells": [
    {
      "cell_type": "markdown",
      "metadata": {
        "id": "view-in-github",
        "colab_type": "text"
      },
      "source": [
        "<a href=\"https://colab.research.google.com/github/ProfesorCamacho/Analisis_Estados_Financieros/blob/main/Analisis_de_estados_financieros.ipynb\" target=\"_parent\"><img src=\"https://colab.research.google.com/assets/colab-badge.svg\" alt=\"Open In Colab\"/></a>"
      ]
    },
    {
      "cell_type": "code",
      "source": [
        "import sqlite3\n",
        "import pandas as pd\n",
        "\n",
        "# Ruta a la base de datos SQLite\n",
        "ruta_base_de_datos = 'income_statements_select_07_21_.db'\n",
        "\n",
        "# Nombre de la tabla a leer\n",
        "nombre_tabla = 'Edo_Resultados'\n",
        "\n",
        "# Conectar a la base de datos SQLite\n",
        "conexion = sqlite3.connect(ruta_base_de_datos)\n",
        "\n",
        "# Leer la tabla en un DataFrame\n",
        "df = pd.read_sql_query(f'SELECT * FROM {nombre_tabla}', conexion)\n",
        "\n",
        "# Cerrar la conexión\n",
        "conexion.close()\n",
        "\n",
        "# Mostrar los primeros 5 registros del DataFrame\n",
        "print(df.head())"
      ],
      "metadata": {
        "colab": {
          "base_uri": "https://localhost:8080/"
        },
        "id": "Lo2f_ROCfnTu",
        "outputId": "f7ca354f-9794-40d0-9b98-5e4c8f180ec5"
      },
      "execution_count": 21,
      "outputs": [
        {
          "output_type": "stream",
          "name": "stdout",
          "text": [
            "                  date symbol reportedCurrency        cik  \\\n",
            "0  2015-03-31 00:00:00     AA              USD  1675149.0   \n",
            "1  2015-06-30 00:00:00     AA              USD  1675149.0   \n",
            "2  2015-09-30 00:00:00     AA              USD  1675149.0   \n",
            "3  2015-12-31 00:00:00     AA              USD  1675149.0   \n",
            "4  2016-03-31 00:00:00     AA              USD  1675149.0   \n",
            "\n",
            "           fillingDate         acceptedDate  calendarYear period  \\\n",
            "0  2015-03-31 00:00:00  2015-03-31 00:00:00        2015.0     Q2   \n",
            "1  2015-06-30 00:00:00  2015-06-30 00:00:00        2015.0     Q2   \n",
            "2  2015-09-30 00:00:00  2015-09-30 00:00:00        2015.0     Q3   \n",
            "3  2015-12-31 00:00:00  2015-12-31 00:00:00        2015.0     Q4   \n",
            "4  2016-03-31 00:00:00  2016-03-31 00:00:00        2016.0     Q2   \n",
            "\n",
            "        revenue  costOfRevenue  ...  incomeBeforeTaxRatio  incomeTaxExpense  \\\n",
            "0  3.105000e+09   2.291000e+09  ...              0.132689       186000000.0   \n",
            "1  2.964000e+09   2.352000e+09  ...              0.005735        47000000.0   \n",
            "2  2.679000e+09   2.239000e+09  ...              0.005226        77000000.0   \n",
            "3  2.451000e+09   2.157000e+09  ...             -0.325581        92000000.0   \n",
            "4  2.129000e+09   1.859000e+09  ...             -0.089244        18000000.0   \n",
            "\n",
            "     netIncome  netIncomeRatio       EPS  EPSDiluted  weightedAverageShsOut  \\\n",
            "0  166000000.0        0.053462  0.910088    0.910088            182400000.0   \n",
            "1  -97000000.0       -0.032726 -0.531798   -0.531798            182400000.0   \n",
            "2 -124000000.0       -0.046286 -0.679825   -0.679825            182400000.0   \n",
            "3 -826000000.0       -0.337005 -4.528509   -4.528509            182400000.0   \n",
            "4 -203000000.0       -0.095350 -1.112939   -1.112939            182400000.0   \n",
            "\n",
            "   weightedAverageShsOutDil  link  finalLink  \n",
            "0               182400000.0  None       None  \n",
            "1               182400000.0  None       None  \n",
            "2               182400000.0  None       None  \n",
            "3               182400000.0  None       None  \n",
            "4               182400000.0  None       None  \n",
            "\n",
            "[5 rows x 36 columns]\n"
          ]
        }
      ]
    },
    {
      "cell_type": "code",
      "source": [
        "# Contamos cuantas obvservaciones tenemos por empresa\n",
        "conteo_empresas = df['symbol'].value_counts()\n",
        "conteo_empresas"
      ],
      "metadata": {
        "colab": {
          "base_uri": "https://localhost:8080/"
        },
        "id": "qfnZILeri0G0",
        "outputId": "0111341b-82a8-49cd-9a3f-33a6f9f76825"
      },
      "execution_count": 22,
      "outputs": [
        {
          "output_type": "execute_result",
          "data": {
            "text/plain": [
              "symbol\n",
              "TILE    75\n",
              "ASGN    73\n",
              "LH      69\n",
              "PPBI    68\n",
              "T       68\n",
              "        ..\n",
              "BBL      2\n",
              "LEV      2\n",
              "THCB     2\n",
              "TSIA     2\n",
              "TBB      1\n",
              "Name: count, Length: 1130, dtype: int64"
            ]
          },
          "metadata": {},
          "execution_count": 22
        }
      ]
    },
    {
      "cell_type": "code",
      "source": [
        "# Filtrar las empresas con al menos 30 observaciones\n",
        "empresas_30_obs = conteo_empresas[conteo_empresas >= 30].index\n",
        "\n",
        "# Filtrar el conjunto de datos para incluir solo estas empresas\n",
        "empresas_interes = df[df['symbol'].isin(empresas_30_obs)]\n",
        "\n",
        "empresas_interes.describe(include=object)"
      ],
      "metadata": {
        "colab": {
          "base_uri": "https://localhost:8080/",
          "height": 230
        },
        "id": "rt430VwdkcvL",
        "outputId": "0b172b7c-b2e4-45cc-87b3-c7eeca0b31e1"
      },
      "execution_count": 23,
      "outputs": [
        {
          "output_type": "execute_result",
          "data": {
            "text/plain": [
              "                       date symbol reportedCurrency          fillingDate  \\\n",
              "count                 44935  44935            44935                44935   \n",
              "unique                 1134    821               15                 3420   \n",
              "top     2016-12-31 00:00:00   TILE              USD  2013-12-31 00:00:00   \n",
              "freq                    721     75            41498                  188   \n",
              "\n",
              "               acceptedDate period  \\\n",
              "count                 44934  44935   \n",
              "unique                37708      5   \n",
              "top     2013-12-31 00:00:00     Q1   \n",
              "freq                    188  11686   \n",
              "\n",
              "                                                     link  \\\n",
              "count                                               37863   \n",
              "unique                                              37610   \n",
              "top     https://www.sec.gov/Archives/edgar/data/165204...   \n",
              "freq                                                    4   \n",
              "\n",
              "                                                finalLink  \n",
              "count                                               37859  \n",
              "unique                                              33983  \n",
              "top     https://www.sec.gov/Archives/edgar/data/165204...  \n",
              "freq                                                    4  "
            ],
            "text/html": [
              "\n",
              "  <div id=\"df-a3b83fe9-8c80-4478-8718-e2864f4cf3cf\" class=\"colab-df-container\">\n",
              "    <div>\n",
              "<style scoped>\n",
              "    .dataframe tbody tr th:only-of-type {\n",
              "        vertical-align: middle;\n",
              "    }\n",
              "\n",
              "    .dataframe tbody tr th {\n",
              "        vertical-align: top;\n",
              "    }\n",
              "\n",
              "    .dataframe thead th {\n",
              "        text-align: right;\n",
              "    }\n",
              "</style>\n",
              "<table border=\"1\" class=\"dataframe\">\n",
              "  <thead>\n",
              "    <tr style=\"text-align: right;\">\n",
              "      <th></th>\n",
              "      <th>date</th>\n",
              "      <th>symbol</th>\n",
              "      <th>reportedCurrency</th>\n",
              "      <th>fillingDate</th>\n",
              "      <th>acceptedDate</th>\n",
              "      <th>period</th>\n",
              "      <th>link</th>\n",
              "      <th>finalLink</th>\n",
              "    </tr>\n",
              "  </thead>\n",
              "  <tbody>\n",
              "    <tr>\n",
              "      <th>count</th>\n",
              "      <td>44935</td>\n",
              "      <td>44935</td>\n",
              "      <td>44935</td>\n",
              "      <td>44935</td>\n",
              "      <td>44934</td>\n",
              "      <td>44935</td>\n",
              "      <td>37863</td>\n",
              "      <td>37859</td>\n",
              "    </tr>\n",
              "    <tr>\n",
              "      <th>unique</th>\n",
              "      <td>1134</td>\n",
              "      <td>821</td>\n",
              "      <td>15</td>\n",
              "      <td>3420</td>\n",
              "      <td>37708</td>\n",
              "      <td>5</td>\n",
              "      <td>37610</td>\n",
              "      <td>33983</td>\n",
              "    </tr>\n",
              "    <tr>\n",
              "      <th>top</th>\n",
              "      <td>2016-12-31 00:00:00</td>\n",
              "      <td>TILE</td>\n",
              "      <td>USD</td>\n",
              "      <td>2013-12-31 00:00:00</td>\n",
              "      <td>2013-12-31 00:00:00</td>\n",
              "      <td>Q1</td>\n",
              "      <td>https://www.sec.gov/Archives/edgar/data/165204...</td>\n",
              "      <td>https://www.sec.gov/Archives/edgar/data/165204...</td>\n",
              "    </tr>\n",
              "    <tr>\n",
              "      <th>freq</th>\n",
              "      <td>721</td>\n",
              "      <td>75</td>\n",
              "      <td>41498</td>\n",
              "      <td>188</td>\n",
              "      <td>188</td>\n",
              "      <td>11686</td>\n",
              "      <td>4</td>\n",
              "      <td>4</td>\n",
              "    </tr>\n",
              "  </tbody>\n",
              "</table>\n",
              "</div>\n",
              "    <div class=\"colab-df-buttons\">\n",
              "\n",
              "  <div class=\"colab-df-container\">\n",
              "    <button class=\"colab-df-convert\" onclick=\"convertToInteractive('df-a3b83fe9-8c80-4478-8718-e2864f4cf3cf')\"\n",
              "            title=\"Convert this dataframe to an interactive table.\"\n",
              "            style=\"display:none;\">\n",
              "\n",
              "  <svg xmlns=\"http://www.w3.org/2000/svg\" height=\"24px\" viewBox=\"0 -960 960 960\">\n",
              "    <path d=\"M120-120v-720h720v720H120Zm60-500h600v-160H180v160Zm220 220h160v-160H400v160Zm0 220h160v-160H400v160ZM180-400h160v-160H180v160Zm440 0h160v-160H620v160ZM180-180h160v-160H180v160Zm440 0h160v-160H620v160Z\"/>\n",
              "  </svg>\n",
              "    </button>\n",
              "\n",
              "  <style>\n",
              "    .colab-df-container {\n",
              "      display:flex;\n",
              "      gap: 12px;\n",
              "    }\n",
              "\n",
              "    .colab-df-convert {\n",
              "      background-color: #E8F0FE;\n",
              "      border: none;\n",
              "      border-radius: 50%;\n",
              "      cursor: pointer;\n",
              "      display: none;\n",
              "      fill: #1967D2;\n",
              "      height: 32px;\n",
              "      padding: 0 0 0 0;\n",
              "      width: 32px;\n",
              "    }\n",
              "\n",
              "    .colab-df-convert:hover {\n",
              "      background-color: #E2EBFA;\n",
              "      box-shadow: 0px 1px 2px rgba(60, 64, 67, 0.3), 0px 1px 3px 1px rgba(60, 64, 67, 0.15);\n",
              "      fill: #174EA6;\n",
              "    }\n",
              "\n",
              "    .colab-df-buttons div {\n",
              "      margin-bottom: 4px;\n",
              "    }\n",
              "\n",
              "    [theme=dark] .colab-df-convert {\n",
              "      background-color: #3B4455;\n",
              "      fill: #D2E3FC;\n",
              "    }\n",
              "\n",
              "    [theme=dark] .colab-df-convert:hover {\n",
              "      background-color: #434B5C;\n",
              "      box-shadow: 0px 1px 3px 1px rgba(0, 0, 0, 0.15);\n",
              "      filter: drop-shadow(0px 1px 2px rgba(0, 0, 0, 0.3));\n",
              "      fill: #FFFFFF;\n",
              "    }\n",
              "  </style>\n",
              "\n",
              "    <script>\n",
              "      const buttonEl =\n",
              "        document.querySelector('#df-a3b83fe9-8c80-4478-8718-e2864f4cf3cf button.colab-df-convert');\n",
              "      buttonEl.style.display =\n",
              "        google.colab.kernel.accessAllowed ? 'block' : 'none';\n",
              "\n",
              "      async function convertToInteractive(key) {\n",
              "        const element = document.querySelector('#df-a3b83fe9-8c80-4478-8718-e2864f4cf3cf');\n",
              "        const dataTable =\n",
              "          await google.colab.kernel.invokeFunction('convertToInteractive',\n",
              "                                                    [key], {});\n",
              "        if (!dataTable) return;\n",
              "\n",
              "        const docLinkHtml = 'Like what you see? Visit the ' +\n",
              "          '<a target=\"_blank\" href=https://colab.research.google.com/notebooks/data_table.ipynb>data table notebook</a>'\n",
              "          + ' to learn more about interactive tables.';\n",
              "        element.innerHTML = '';\n",
              "        dataTable['output_type'] = 'display_data';\n",
              "        await google.colab.output.renderOutput(dataTable, element);\n",
              "        const docLink = document.createElement('div');\n",
              "        docLink.innerHTML = docLinkHtml;\n",
              "        element.appendChild(docLink);\n",
              "      }\n",
              "    </script>\n",
              "  </div>\n",
              "\n",
              "\n",
              "<div id=\"df-4677872c-c2ed-4eef-99c6-3c6572487123\">\n",
              "  <button class=\"colab-df-quickchart\" onclick=\"quickchart('df-4677872c-c2ed-4eef-99c6-3c6572487123')\"\n",
              "            title=\"Suggest charts\"\n",
              "            style=\"display:none;\">\n",
              "\n",
              "<svg xmlns=\"http://www.w3.org/2000/svg\" height=\"24px\"viewBox=\"0 0 24 24\"\n",
              "     width=\"24px\">\n",
              "    <g>\n",
              "        <path d=\"M19 3H5c-1.1 0-2 .9-2 2v14c0 1.1.9 2 2 2h14c1.1 0 2-.9 2-2V5c0-1.1-.9-2-2-2zM9 17H7v-7h2v7zm4 0h-2V7h2v10zm4 0h-2v-4h2v4z\"/>\n",
              "    </g>\n",
              "</svg>\n",
              "  </button>\n",
              "\n",
              "<style>\n",
              "  .colab-df-quickchart {\n",
              "      --bg-color: #E8F0FE;\n",
              "      --fill-color: #1967D2;\n",
              "      --hover-bg-color: #E2EBFA;\n",
              "      --hover-fill-color: #174EA6;\n",
              "      --disabled-fill-color: #AAA;\n",
              "      --disabled-bg-color: #DDD;\n",
              "  }\n",
              "\n",
              "  [theme=dark] .colab-df-quickchart {\n",
              "      --bg-color: #3B4455;\n",
              "      --fill-color: #D2E3FC;\n",
              "      --hover-bg-color: #434B5C;\n",
              "      --hover-fill-color: #FFFFFF;\n",
              "      --disabled-bg-color: #3B4455;\n",
              "      --disabled-fill-color: #666;\n",
              "  }\n",
              "\n",
              "  .colab-df-quickchart {\n",
              "    background-color: var(--bg-color);\n",
              "    border: none;\n",
              "    border-radius: 50%;\n",
              "    cursor: pointer;\n",
              "    display: none;\n",
              "    fill: var(--fill-color);\n",
              "    height: 32px;\n",
              "    padding: 0;\n",
              "    width: 32px;\n",
              "  }\n",
              "\n",
              "  .colab-df-quickchart:hover {\n",
              "    background-color: var(--hover-bg-color);\n",
              "    box-shadow: 0 1px 2px rgba(60, 64, 67, 0.3), 0 1px 3px 1px rgba(60, 64, 67, 0.15);\n",
              "    fill: var(--button-hover-fill-color);\n",
              "  }\n",
              "\n",
              "  .colab-df-quickchart-complete:disabled,\n",
              "  .colab-df-quickchart-complete:disabled:hover {\n",
              "    background-color: var(--disabled-bg-color);\n",
              "    fill: var(--disabled-fill-color);\n",
              "    box-shadow: none;\n",
              "  }\n",
              "\n",
              "  .colab-df-spinner {\n",
              "    border: 2px solid var(--fill-color);\n",
              "    border-color: transparent;\n",
              "    border-bottom-color: var(--fill-color);\n",
              "    animation:\n",
              "      spin 1s steps(1) infinite;\n",
              "  }\n",
              "\n",
              "  @keyframes spin {\n",
              "    0% {\n",
              "      border-color: transparent;\n",
              "      border-bottom-color: var(--fill-color);\n",
              "      border-left-color: var(--fill-color);\n",
              "    }\n",
              "    20% {\n",
              "      border-color: transparent;\n",
              "      border-left-color: var(--fill-color);\n",
              "      border-top-color: var(--fill-color);\n",
              "    }\n",
              "    30% {\n",
              "      border-color: transparent;\n",
              "      border-left-color: var(--fill-color);\n",
              "      border-top-color: var(--fill-color);\n",
              "      border-right-color: var(--fill-color);\n",
              "    }\n",
              "    40% {\n",
              "      border-color: transparent;\n",
              "      border-right-color: var(--fill-color);\n",
              "      border-top-color: var(--fill-color);\n",
              "    }\n",
              "    60% {\n",
              "      border-color: transparent;\n",
              "      border-right-color: var(--fill-color);\n",
              "    }\n",
              "    80% {\n",
              "      border-color: transparent;\n",
              "      border-right-color: var(--fill-color);\n",
              "      border-bottom-color: var(--fill-color);\n",
              "    }\n",
              "    90% {\n",
              "      border-color: transparent;\n",
              "      border-bottom-color: var(--fill-color);\n",
              "    }\n",
              "  }\n",
              "</style>\n",
              "\n",
              "  <script>\n",
              "    async function quickchart(key) {\n",
              "      const quickchartButtonEl =\n",
              "        document.querySelector('#' + key + ' button');\n",
              "      quickchartButtonEl.disabled = true;  // To prevent multiple clicks.\n",
              "      quickchartButtonEl.classList.add('colab-df-spinner');\n",
              "      try {\n",
              "        const charts = await google.colab.kernel.invokeFunction(\n",
              "            'suggestCharts', [key], {});\n",
              "      } catch (error) {\n",
              "        console.error('Error during call to suggestCharts:', error);\n",
              "      }\n",
              "      quickchartButtonEl.classList.remove('colab-df-spinner');\n",
              "      quickchartButtonEl.classList.add('colab-df-quickchart-complete');\n",
              "    }\n",
              "    (() => {\n",
              "      let quickchartButtonEl =\n",
              "        document.querySelector('#df-4677872c-c2ed-4eef-99c6-3c6572487123 button');\n",
              "      quickchartButtonEl.style.display =\n",
              "        google.colab.kernel.accessAllowed ? 'block' : 'none';\n",
              "    })();\n",
              "  </script>\n",
              "</div>\n",
              "\n",
              "    </div>\n",
              "  </div>\n"
            ],
            "application/vnd.google.colaboratory.intrinsic+json": {
              "type": "dataframe",
              "summary": "{\n  \"name\": \"empresas_interes\",\n  \"rows\": 4,\n  \"fields\": [\n    {\n      \"column\": \"date\",\n      \"properties\": {\n        \"dtype\": \"date\",\n        \"min\": \"1970-01-01 00:00:00.000000721\",\n        \"max\": \"2016-12-31 00:00:00\",\n        \"num_unique_values\": 4,\n        \"samples\": [\n          1134,\n          \"721\",\n          \"44935\"\n        ],\n        \"semantic_type\": \"\",\n        \"description\": \"\"\n      }\n    },\n    {\n      \"column\": \"symbol\",\n      \"properties\": {\n        \"dtype\": \"string\",\n        \"num_unique_values\": 4,\n        \"samples\": [\n          821,\n          \"75\",\n          \"44935\"\n        ],\n        \"semantic_type\": \"\",\n        \"description\": \"\"\n      }\n    },\n    {\n      \"column\": \"reportedCurrency\",\n      \"properties\": {\n        \"dtype\": \"string\",\n        \"num_unique_values\": 4,\n        \"samples\": [\n          15,\n          \"41498\",\n          \"44935\"\n        ],\n        \"semantic_type\": \"\",\n        \"description\": \"\"\n      }\n    },\n    {\n      \"column\": \"fillingDate\",\n      \"properties\": {\n        \"dtype\": \"date\",\n        \"min\": \"1970-01-01 00:00:00.000000188\",\n        \"max\": \"2013-12-31 00:00:00\",\n        \"num_unique_values\": 4,\n        \"samples\": [\n          3420,\n          \"188\",\n          \"44935\"\n        ],\n        \"semantic_type\": \"\",\n        \"description\": \"\"\n      }\n    },\n    {\n      \"column\": \"acceptedDate\",\n      \"properties\": {\n        \"dtype\": \"date\",\n        \"min\": \"1970-01-01 00:00:00.000000188\",\n        \"max\": \"2013-12-31 00:00:00\",\n        \"num_unique_values\": 4,\n        \"samples\": [\n          37708,\n          \"188\",\n          \"44934\"\n        ],\n        \"semantic_type\": \"\",\n        \"description\": \"\"\n      }\n    },\n    {\n      \"column\": \"period\",\n      \"properties\": {\n        \"dtype\": \"string\",\n        \"num_unique_values\": 4,\n        \"samples\": [\n          5,\n          \"11686\",\n          \"44935\"\n        ],\n        \"semantic_type\": \"\",\n        \"description\": \"\"\n      }\n    },\n    {\n      \"column\": \"link\",\n      \"properties\": {\n        \"dtype\": \"string\",\n        \"num_unique_values\": 4,\n        \"samples\": [\n          37610,\n          \"4\",\n          \"37863\"\n        ],\n        \"semantic_type\": \"\",\n        \"description\": \"\"\n      }\n    },\n    {\n      \"column\": \"finalLink\",\n      \"properties\": {\n        \"dtype\": \"string\",\n        \"num_unique_values\": 4,\n        \"samples\": [\n          33983,\n          \"4\",\n          \"37859\"\n        ],\n        \"semantic_type\": \"\",\n        \"description\": \"\"\n      }\n    }\n  ]\n}"
            }
          },
          "metadata": {},
          "execution_count": 23
        }
      ]
    },
    {
      "cell_type": "code",
      "source": [
        "empresas_interes['date'] = pd.to_datetime(df['date'])\n",
        "\n",
        "# Filtrar las fechas mínimas y máximas para cada empresa\n",
        "min_fecha = empresas_interes.groupby('symbol')['date'].min()\n",
        "max_fecha = empresas_interes.groupby('symbol')['date'].max()\n",
        "\n",
        "# Filtrar las ventas iniciales y finales para cada empresa\n",
        "inicio_ventas = empresas_interes.groupby('symbol').apply(lambda x: x[x['date'] == min_fecha[x.name]]['revenue'].iloc[0])\n",
        "fin_ventas = empresas_interes.groupby('symbol').apply(lambda x: x[x['date'] == max_fecha[x.name]]['revenue'].iloc[0])\n",
        "\n",
        "# Calcular el número de años entre las fechas mínimas y máximas\n",
        "años = (max_fecha - min_fecha).dt.days / 365\n",
        "\n",
        "# Calcular el CAGR de ventas para cada empresa\n",
        "cagr_ventas = ((fin_ventas / inicio_ventas) ** (1 / años)) - 1\n",
        "\n",
        "# Filtrar empresas con CAGR positivo\n",
        "cagr_positivo = cagr_ventas[cagr_ventas > 0]\n",
        "\n",
        "# Crear un DataFrame que contenga toda la información original de las empresas con CAGR positivo\n",
        "cagr_positivo_df = empresas_interes[empresas_interes['symbol'].isin(cagr_positivo.index)]\n",
        "\n",
        "cagr_positivo.head()"
      ],
      "metadata": {
        "colab": {
          "base_uri": "https://localhost:8080/"
        },
        "id": "--LW1cmrk-NW",
        "outputId": "2befdd0b-8b61-44e3-e4bc-8e8e9221f50d"
      },
      "execution_count": 42,
      "outputs": [
        {
          "output_type": "stream",
          "name": "stderr",
          "text": [
            "<ipython-input-42-e594754f633c>:1: SettingWithCopyWarning: \n",
            "A value is trying to be set on a copy of a slice from a DataFrame.\n",
            "Try using .loc[row_indexer,col_indexer] = value instead\n",
            "\n",
            "See the caveats in the documentation: https://pandas.pydata.org/pandas-docs/stable/user_guide/indexing.html#returning-a-view-versus-a-copy\n",
            "  empresas_interes['date'] = pd.to_datetime(df['date'])\n"
          ]
        },
        {
          "output_type": "execute_result",
          "data": {
            "text/plain": [
              "symbol\n",
              "AAL     0.035224\n",
              "AAPL    0.209878\n",
              "AAWW    0.075450\n",
              "ABB     0.008507\n",
              "ABCB    0.174854\n",
              "dtype: float64"
            ]
          },
          "metadata": {},
          "execution_count": 42
        }
      ]
    },
    {
      "cell_type": "code",
      "source": [
        "max_8_negativos = []\n",
        "\n",
        "for symbol, group in empresas_interes.groupby('symbol'):\n",
        "    try:\n",
        "        conteo_negativos = (group['netIncome'] < 0).sum()\n",
        "        if conteo_negativos <= 8:\n",
        "            max_8_negativos.append([symbol, conteo_negativos])\n",
        "    except:\n",
        "        continue\n",
        "\n",
        "mun_negativos = pd.DataFrame(max_8_negativos, columns=[\"symbol\", \"num_negativos_netIncome\"])\n",
        "print(mun_negativos)\n",
        "\n",
        "# Crear un DataFrame que contenga toda la información original de las empresas\n",
        "mun_negativos_df = empresas_interes[empresas_interes['symbol'].isin(mun_negativos.index)]"
      ],
      "metadata": {
        "colab": {
          "base_uri": "https://localhost:8080/"
        },
        "id": "pTFwxTDPnKYp",
        "outputId": "52756a27-0acf-4830-acf1-370dbbd039fe"
      },
      "execution_count": 44,
      "outputs": [
        {
          "output_type": "stream",
          "name": "stdout",
          "text": [
            "    symbol  num_negativos_netIncome\n",
            "0     AAPL                        0\n",
            "1      ABB                        1\n",
            "2      ACN                        0\n",
            "3     ADBE                        1\n",
            "4      ADM                        0\n",
            "..     ...                      ...\n",
            "431     WU                        2\n",
            "432    XOM                        4\n",
            "433    XRX                        6\n",
            "434   YNDX                        4\n",
            "435     YY                        5\n",
            "\n",
            "[436 rows x 2 columns]\n"
          ]
        }
      ]
    },
    {
      "cell_type": "code",
      "source": [
        "# Filtrar las ventas iniciales y finales para cada empresa\n",
        "inicio_costo = empresas_interes.groupby('symbol').apply(lambda x: x[x['date'] == min_fecha[x.name]]['costOfRevenue'].iloc[0])\n",
        "fin_costo = empresas_interes.groupby('symbol').apply(lambda x: x[x['date'] == max_fecha[x.name]]['costOfRevenue'].iloc[0])\n",
        "\n",
        "# Calcular el CAGR de ventas para cada empresa\n",
        "cagr_costos = ((fin_costo / inicio_costo) ** (1 / años)) - 1\n",
        "\n",
        "# Filter out companies where CAGR of revenue is greater than CAGR of expenses\n",
        "diferencia = cagr_ventas - cagr_costos\n",
        "mayor_cagr_ventas = diferencia[diferencia > 0]\n",
        "\n",
        "mayor_cagr_ventas_df = empresas_interes[empresas_interes['symbol'].isin(mayor_cagr_ventas.index)]\n",
        "\n",
        "mayor_cagr_ventas"
      ],
      "metadata": {
        "colab": {
          "base_uri": "https://localhost:8080/"
        },
        "id": "n_18nZiXqoPn",
        "outputId": "336e6ee0-d42c-4df2-cd75-72ac9cd3cd2d"
      },
      "execution_count": 45,
      "outputs": [
        {
          "output_type": "execute_result",
          "data": {
            "text/plain": [
              "symbol\n",
              "AAPL    0.009591\n",
              "AAWW    0.018916\n",
              "ABB     0.001779\n",
              "ABMD    0.009105\n",
              "ACN     0.005891\n",
              "          ...   \n",
              "WTS     0.010711\n",
              "WU      0.001352\n",
              "X       0.018531\n",
              "XENT    0.173497\n",
              "ZEN     0.091048\n",
              "Length: 345, dtype: float64"
            ]
          },
          "metadata": {},
          "execution_count": 45
        }
      ]
    },
    {
      "cell_type": "code",
      "source": [
        "# Companies with positive CAGR\n",
        "cagr_positivo_df = set(cagr_positivo_df.index)\n",
        "\n",
        "# Companies with maximum 8 negative net income\n",
        "mun_negativos_df = set(mun_negativos_df['symbol'])\n",
        "\n",
        "# Companies with stable PE Ratio\n",
        "mayor_cagr_ventas_df = set(mayor_cagr_ventas_df['symbol'])\n",
        "\n",
        "# Intersect the companies that meet all three criteria\n",
        "empresas_solidas = cagr_positivo_df & mun_negativos_df & mayor_cagr_ventas_df\n",
        "\n",
        "# Create a DataFrame to store the results\n",
        "empresas_a_invertir = pd.DataFrame(list(empresas_solidas), columns=['symbol'])\n"
      ],
      "metadata": {
        "colab": {
          "base_uri": "https://localhost:8080/",
          "height": 211
        },
        "id": "r1k4vbmKsmj7",
        "outputId": "70a2af59-1a8e-41b6-830a-d1f1b022bf84"
      },
      "execution_count": 46,
      "outputs": [
        {
          "output_type": "error",
          "ename": "AttributeError",
          "evalue": "'set' object has no attribute 'index'",
          "traceback": [
            "\u001b[0;31m---------------------------------------------------------------------------\u001b[0m",
            "\u001b[0;31mAttributeError\u001b[0m                            Traceback (most recent call last)",
            "\u001b[0;32m<ipython-input-46-6241f0b68695>\u001b[0m in \u001b[0;36m<cell line: 2>\u001b[0;34m()\u001b[0m\n\u001b[1;32m      1\u001b[0m \u001b[0;31m# Companies with positive CAGR\u001b[0m\u001b[0;34m\u001b[0m\u001b[0;34m\u001b[0m\u001b[0m\n\u001b[0;32m----> 2\u001b[0;31m \u001b[0mcagr_positivo_df\u001b[0m \u001b[0;34m=\u001b[0m \u001b[0mset\u001b[0m\u001b[0;34m(\u001b[0m\u001b[0mcagr_positivo_df\u001b[0m\u001b[0;34m.\u001b[0m\u001b[0mindex\u001b[0m\u001b[0;34m)\u001b[0m\u001b[0;34m\u001b[0m\u001b[0;34m\u001b[0m\u001b[0m\n\u001b[0m\u001b[1;32m      3\u001b[0m \u001b[0;34m\u001b[0m\u001b[0m\n\u001b[1;32m      4\u001b[0m \u001b[0;31m# Companies with maximum 8 negative net income\u001b[0m\u001b[0;34m\u001b[0m\u001b[0;34m\u001b[0m\u001b[0m\n\u001b[1;32m      5\u001b[0m \u001b[0mmun_negativos_df\u001b[0m \u001b[0;34m=\u001b[0m \u001b[0mset\u001b[0m\u001b[0;34m(\u001b[0m\u001b[0mmun_negativos_df\u001b[0m\u001b[0;34m[\u001b[0m\u001b[0;34m'symbol'\u001b[0m\u001b[0;34m]\u001b[0m\u001b[0;34m)\u001b[0m\u001b[0;34m\u001b[0m\u001b[0;34m\u001b[0m\u001b[0m\n",
            "\u001b[0;31mAttributeError\u001b[0m: 'set' object has no attribute 'index'"
          ]
        }
      ]
    },
    {
      "cell_type": "code",
      "source": [
        "empresas_solidas"
      ],
      "metadata": {
        "colab": {
          "base_uri": "https://localhost:8080/"
        },
        "id": "WuTLjNK7tnjy",
        "outputId": "8f6658f6-88bb-4aff-d088-25a4b1cc6eac"
      },
      "execution_count": 39,
      "outputs": [
        {
          "output_type": "execute_result",
          "data": {
            "text/plain": [
              "set()"
            ]
          },
          "metadata": {},
          "execution_count": 39
        }
      ]
    }
  ]
}